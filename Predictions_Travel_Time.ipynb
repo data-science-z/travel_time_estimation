{
 "cells": [
  {
   "cell_type": "code",
   "execution_count": 1,
   "metadata": {},
   "outputs": [],
   "source": [
    "import xgboost as xgb\n",
    "from sklearn.preprocessing import MinMaxScaler\n",
    "from sklearn.metrics import accuracy_score, roc_curve, auc, mean_absolute_error\n",
    "from sklearn.model_selection import train_test_split\n",
    "from sklearn.model_selection import KFold\n",
    "from sklearn.model_selection import cross_val_score\n",
    "from sklearn.linear_model import LinearRegression\n",
    "from xgboost import plot_importance\n",
    "import xgboost as xgb\n",
    "import pandas as pd\n",
    "import numpy as np\n",
    "import matplotlib.pyplot as plt\n",
    "import seaborn as sns\n",
    "import pickle\n",
    "%matplotlib inline"
   ]
  },
  {
   "cell_type": "markdown",
   "metadata": {},
   "source": [
    "# Data Load"
   ]
  },
  {
   "cell_type": "code",
   "execution_count": 2,
   "metadata": {},
   "outputs": [
    {
     "name": "stderr",
     "output_type": "stream",
     "text": [
      "/Users/mgouy/Documents/pydev/ENV/lib/python2.7/site-packages/numpy/lib/arraysetops.py:463: FutureWarning: elementwise comparison failed; returning scalar instead, but in the future will perform elementwise comparison\n",
      "  mask |= (ar1 == a)\n"
     ]
    }
   ],
   "source": [
    "train = pd.read_csv(\"data/train_distance_geohash_airports_neighborhoods_weather.csv\", index_col=0)"
   ]
  },
  {
   "cell_type": "code",
   "execution_count": 3,
   "metadata": {},
   "outputs": [
    {
     "data": {
      "text/html": [
       "<div>\n",
       "<style>\n",
       "    .dataframe thead tr:only-child th {\n",
       "        text-align: right;\n",
       "    }\n",
       "\n",
       "    .dataframe thead th {\n",
       "        text-align: left;\n",
       "    }\n",
       "\n",
       "    .dataframe tbody tr th {\n",
       "        vertical-align: top;\n",
       "    }\n",
       "</style>\n",
       "<table border=\"1\" class=\"dataframe\">\n",
       "  <thead>\n",
       "    <tr style=\"text-align: right;\">\n",
       "      <th></th>\n",
       "      <th>start_lng</th>\n",
       "      <th>start_lat</th>\n",
       "      <th>end_lng</th>\n",
       "      <th>end_lat</th>\n",
       "      <th>start_timestamp</th>\n",
       "      <th>duration</th>\n",
       "      <th>distance</th>\n",
       "      <th>start_geohash</th>\n",
       "      <th>end_geohash</th>\n",
       "      <th>laguardia</th>\n",
       "      <th>...</th>\n",
       "      <th>dr5rs</th>\n",
       "      <th>dr5rt</th>\n",
       "      <th>dr5rw</th>\n",
       "      <th>timestamp</th>\n",
       "      <th>month</th>\n",
       "      <th>dow</th>\n",
       "      <th>hour</th>\n",
       "      <th>date</th>\n",
       "      <th>rain</th>\n",
       "      <th>snow</th>\n",
       "    </tr>\n",
       "  </thead>\n",
       "  <tbody>\n",
       "    <tr>\n",
       "      <th>0</th>\n",
       "      <td>-74.009087</td>\n",
       "      <td>40.713818</td>\n",
       "      <td>-74.004326</td>\n",
       "      <td>40.719986</td>\n",
       "      <td>1420950819</td>\n",
       "      <td>112</td>\n",
       "      <td>794</td>\n",
       "      <td>dr5reg</td>\n",
       "      <td>dr5reu</td>\n",
       "      <td>0</td>\n",
       "      <td>...</td>\n",
       "      <td>0</td>\n",
       "      <td>0</td>\n",
       "      <td>0</td>\n",
       "      <td>2015-01-11 04:33:39</td>\n",
       "      <td>1</td>\n",
       "      <td>6</td>\n",
       "      <td>4</td>\n",
       "      <td>2015-01-11</td>\n",
       "      <td>0</td>\n",
       "      <td>0</td>\n",
       "    </tr>\n",
       "    <tr>\n",
       "      <th>1</th>\n",
       "      <td>-73.971176</td>\n",
       "      <td>40.762428</td>\n",
       "      <td>-74.004181</td>\n",
       "      <td>40.742653</td>\n",
       "      <td>1420950819</td>\n",
       "      <td>1159</td>\n",
       "      <td>3548</td>\n",
       "      <td>dr5rus</td>\n",
       "      <td>dr5rgb</td>\n",
       "      <td>0</td>\n",
       "      <td>...</td>\n",
       "      <td>0</td>\n",
       "      <td>0</td>\n",
       "      <td>0</td>\n",
       "      <td>2015-01-11 04:33:39</td>\n",
       "      <td>1</td>\n",
       "      <td>6</td>\n",
       "      <td>4</td>\n",
       "      <td>2015-01-11</td>\n",
       "      <td>0</td>\n",
       "      <td>0</td>\n",
       "    </tr>\n",
       "    <tr>\n",
       "      <th>2</th>\n",
       "      <td>-73.974030</td>\n",
       "      <td>40.763126</td>\n",
       "      <td>-74.002647</td>\n",
       "      <td>40.760700</td>\n",
       "      <td>1420945942</td>\n",
       "      <td>674</td>\n",
       "      <td>2431</td>\n",
       "      <td>dr5rus</td>\n",
       "      <td>dr5ruh</td>\n",
       "      <td>0</td>\n",
       "      <td>...</td>\n",
       "      <td>0</td>\n",
       "      <td>0</td>\n",
       "      <td>0</td>\n",
       "      <td>2015-01-11 03:12:22</td>\n",
       "      <td>1</td>\n",
       "      <td>6</td>\n",
       "      <td>3</td>\n",
       "      <td>2015-01-11</td>\n",
       "      <td>0</td>\n",
       "      <td>0</td>\n",
       "    </tr>\n",
       "    <tr>\n",
       "      <th>3</th>\n",
       "      <td>-73.983643</td>\n",
       "      <td>40.764511</td>\n",
       "      <td>-74.001961</td>\n",
       "      <td>40.735809</td>\n",
       "      <td>1420945943</td>\n",
       "      <td>1210</td>\n",
       "      <td>3542</td>\n",
       "      <td>dr5ruk</td>\n",
       "      <td>dr5rsp</td>\n",
       "      <td>0</td>\n",
       "      <td>...</td>\n",
       "      <td>1</td>\n",
       "      <td>0</td>\n",
       "      <td>0</td>\n",
       "      <td>2015-01-11 03:12:23</td>\n",
       "      <td>1</td>\n",
       "      <td>6</td>\n",
       "      <td>3</td>\n",
       "      <td>2015-01-11</td>\n",
       "      <td>0</td>\n",
       "      <td>0</td>\n",
       "    </tr>\n",
       "    <tr>\n",
       "      <th>4</th>\n",
       "      <td>-74.008125</td>\n",
       "      <td>40.703854</td>\n",
       "      <td>-73.985641</td>\n",
       "      <td>40.760357</td>\n",
       "      <td>1420947429</td>\n",
       "      <td>1474</td>\n",
       "      <td>6555</td>\n",
       "      <td>dr5rec</td>\n",
       "      <td>dr5ruk</td>\n",
       "      <td>0</td>\n",
       "      <td>...</td>\n",
       "      <td>0</td>\n",
       "      <td>0</td>\n",
       "      <td>0</td>\n",
       "      <td>2015-01-11 03:37:09</td>\n",
       "      <td>1</td>\n",
       "      <td>6</td>\n",
       "      <td>3</td>\n",
       "      <td>2015-01-11</td>\n",
       "      <td>0</td>\n",
       "      <td>0</td>\n",
       "    </tr>\n",
       "  </tbody>\n",
       "</table>\n",
       "<p>5 rows × 38 columns</p>\n",
       "</div>"
      ],
      "text/plain": [
       "   start_lng  start_lat    end_lng    end_lat  start_timestamp  duration  \\\n",
       "0 -74.009087  40.713818 -74.004326  40.719986       1420950819       112   \n",
       "1 -73.971176  40.762428 -74.004181  40.742653       1420950819      1159   \n",
       "2 -73.974030  40.763126 -74.002647  40.760700       1420945942       674   \n",
       "3 -73.983643  40.764511 -74.001961  40.735809       1420945943      1210   \n",
       "4 -74.008125  40.703854 -73.985641  40.760357       1420947429      1474   \n",
       "\n",
       "   distance start_geohash end_geohash  laguardia  ...   dr5rs  dr5rt  dr5rw  \\\n",
       "0       794        dr5reg      dr5reu          0  ...       0      0      0   \n",
       "1      3548        dr5rus      dr5rgb          0  ...       0      0      0   \n",
       "2      2431        dr5rus      dr5ruh          0  ...       0      0      0   \n",
       "3      3542        dr5ruk      dr5rsp          0  ...       1      0      0   \n",
       "4      6555        dr5rec      dr5ruk          0  ...       0      0      0   \n",
       "\n",
       "             timestamp  month  dow  hour        date  rain  snow  \n",
       "0  2015-01-11 04:33:39      1    6     4  2015-01-11     0     0  \n",
       "1  2015-01-11 04:33:39      1    6     4  2015-01-11     0     0  \n",
       "2  2015-01-11 03:12:22      1    6     3  2015-01-11     0     0  \n",
       "3  2015-01-11 03:12:23      1    6     3  2015-01-11     0     0  \n",
       "4  2015-01-11 03:37:09      1    6     3  2015-01-11     0     0  \n",
       "\n",
       "[5 rows x 38 columns]"
      ]
     },
     "execution_count": 3,
     "metadata": {},
     "output_type": "execute_result"
    }
   ],
   "source": [
    "train.head()"
   ]
  },
  {
   "cell_type": "code",
   "execution_count": 4,
   "metadata": {},
   "outputs": [
    {
     "data": {
      "text/plain": [
       "(12905715, 38)"
      ]
     },
     "execution_count": 4,
     "metadata": {},
     "output_type": "execute_result"
    }
   ],
   "source": [
    "train.shape"
   ]
  },
  {
   "cell_type": "code",
   "execution_count": 79,
   "metadata": {},
   "outputs": [],
   "source": [
    "# Let's extract a random sample of the data for faster iterations\n",
    "train_sample = train.sample(50000, random_state=157)"
   ]
  },
  {
   "cell_type": "markdown",
   "metadata": {},
   "source": [
    "# EDA"
   ]
  },
  {
   "cell_type": "markdown",
   "metadata": {},
   "source": [
    "### Any null value?"
   ]
  },
  {
   "cell_type": "code",
   "execution_count": 35,
   "metadata": {},
   "outputs": [
    {
     "data": {
      "text/plain": [
       "[]"
      ]
     },
     "execution_count": 35,
     "metadata": {},
     "output_type": "execute_result"
    }
   ],
   "source": [
    "train.columns[train.isnull().any()].tolist()"
   ]
  },
  {
   "cell_type": "markdown",
   "metadata": {},
   "source": [
    "### Distribution of durations"
   ]
  },
  {
   "cell_type": "code",
   "execution_count": 24,
   "metadata": {},
   "outputs": [
    {
     "data": {
      "image/png": "[encoded data removed]",
      "text/plain": [
       "<matplotlib.figure.Figure at 0x119e17cd0>"
      ]
     },
     "metadata": {},
     "output_type": "display_data"
    }
   ],
   "source": [
    "f, (ax1, ax2) = plt.subplots(2, figsize=(15,12))\n",
    "plt.title('Distribution of durations')\n",
    "plt.xlabel('trip duration [s]')\n",
    "sns.distplot(train_sample.duration, ax=ax1)\n",
    "sns.distplot(train_sample[train_sample.duration < 5000].duration)\n",
    "plt.show()"
   ]
  },
  {
   "cell_type": "markdown",
   "metadata": {},
   "source": [
    "Most trips have a duration < 5000s (~1h30min) we observe some outliers with durations over 9hrs. Are those outliers legitimate (just very long rides) or are they anomalies?"
   ]
  },
  {
   "cell_type": "markdown",
   "metadata": {},
   "source": [
    "#### Long durations"
   ]
  },
  {
   "cell_type": "code",
   "execution_count": 16,
   "metadata": {},
   "outputs": [
    {
     "data": {
      "text/html": [
       "<div>\n",
       "<style>\n",
       "    .dataframe thead tr:only-child th {\n",
       "        text-align: right;\n",
       "    }\n",
       "\n",
       "    .dataframe thead th {\n",
       "        text-align: left;\n",
       "    }\n",
       "\n",
       "    .dataframe tbody tr th {\n",
       "        vertical-align: top;\n",
       "    }\n",
       "</style>\n",
       "<table border=\"1\" class=\"dataframe\">\n",
       "  <thead>\n",
       "    <tr style=\"text-align: right;\">\n",
       "      <th></th>\n",
       "      <th>start_lng</th>\n",
       "      <th>start_lat</th>\n",
       "      <th>end_lng</th>\n",
       "      <th>end_lat</th>\n",
       "      <th>start_timestamp</th>\n",
       "      <th>duration</th>\n",
       "      <th>distance</th>\n",
       "      <th>start_geohash</th>\n",
       "      <th>end_geohash</th>\n",
       "      <th>laguardia</th>\n",
       "      <th>...</th>\n",
       "      <th>dr5rs</th>\n",
       "      <th>dr5rt</th>\n",
       "      <th>dr5rw</th>\n",
       "      <th>timestamp</th>\n",
       "      <th>month</th>\n",
       "      <th>dow</th>\n",
       "      <th>hour</th>\n",
       "      <th>date</th>\n",
       "      <th>rain</th>\n",
       "      <th>snow</th>\n",
       "    </tr>\n",
       "  </thead>\n",
       "  <tbody>\n",
       "    <tr>\n",
       "      <th>36829</th>\n",
       "      <td>-73.873688</td>\n",
       "      <td>40.773979</td>\n",
       "      <td>-73.986237</td>\n",
       "      <td>40.750359</td>\n",
       "      <td>1421013478</td>\n",
       "      <td>36122</td>\n",
       "      <td>9858</td>\n",
       "      <td>dr5ryy</td>\n",
       "      <td>dr5ru6</td>\n",
       "      <td>1</td>\n",
       "      <td>...</td>\n",
       "      <td>0</td>\n",
       "      <td>0</td>\n",
       "      <td>0</td>\n",
       "      <td>2015-01-11 21:57:58</td>\n",
       "      <td>1</td>\n",
       "      <td>6</td>\n",
       "      <td>21</td>\n",
       "      <td>2015-01-11</td>\n",
       "      <td>0</td>\n",
       "      <td>0</td>\n",
       "    </tr>\n",
       "    <tr>\n",
       "      <th>87511</th>\n",
       "      <td>-73.888596</td>\n",
       "      <td>40.758793</td>\n",
       "      <td>-74.039131</td>\n",
       "      <td>40.730282</td>\n",
       "      <td>1422219276</td>\n",
       "      <td>39924</td>\n",
       "      <td>13102</td>\n",
       "      <td>dr5rye</td>\n",
       "      <td>dr5ren</td>\n",
       "      <td>0</td>\n",
       "      <td>...</td>\n",
       "      <td>0</td>\n",
       "      <td>0</td>\n",
       "      <td>0</td>\n",
       "      <td>2015-01-25 20:54:36</td>\n",
       "      <td>1</td>\n",
       "      <td>6</td>\n",
       "      <td>20</td>\n",
       "      <td>2015-01-25</td>\n",
       "      <td>0</td>\n",
       "      <td>0</td>\n",
       "    </tr>\n",
       "    <tr>\n",
       "      <th>90077</th>\n",
       "      <td>-73.783653</td>\n",
       "      <td>40.648769</td>\n",
       "      <td>-73.992805</td>\n",
       "      <td>40.713112</td>\n",
       "      <td>1422224158</td>\n",
       "      <td>35042</td>\n",
       "      <td>19070</td>\n",
       "      <td>dr5x1p</td>\n",
       "      <td>dr5rs7</td>\n",
       "      <td>0</td>\n",
       "      <td>...</td>\n",
       "      <td>1</td>\n",
       "      <td>0</td>\n",
       "      <td>0</td>\n",
       "      <td>2015-01-25 22:15:58</td>\n",
       "      <td>1</td>\n",
       "      <td>6</td>\n",
       "      <td>22</td>\n",
       "      <td>2015-01-25</td>\n",
       "      <td>0</td>\n",
       "      <td>0</td>\n",
       "    </tr>\n",
       "    <tr>\n",
       "      <th>106362</th>\n",
       "      <td>-73.946259</td>\n",
       "      <td>40.777187</td>\n",
       "      <td>-73.979790</td>\n",
       "      <td>40.755127</td>\n",
       "      <td>1422227794</td>\n",
       "      <td>35381</td>\n",
       "      <td>3743</td>\n",
       "      <td>dr5rvr</td>\n",
       "      <td>dr5rue</td>\n",
       "      <td>0</td>\n",
       "      <td>...</td>\n",
       "      <td>0</td>\n",
       "      <td>0</td>\n",
       "      <td>0</td>\n",
       "      <td>2015-01-25 23:16:34</td>\n",
       "      <td>1</td>\n",
       "      <td>6</td>\n",
       "      <td>23</td>\n",
       "      <td>2015-01-25</td>\n",
       "      <td>0</td>\n",
       "      <td>0</td>\n",
       "    </tr>\n",
       "    <tr>\n",
       "      <th>107665</th>\n",
       "      <td>-73.780090</td>\n",
       "      <td>40.647243</td>\n",
       "      <td>-73.989548</td>\n",
       "      <td>40.758186</td>\n",
       "      <td>1422223681</td>\n",
       "      <td>35519</td>\n",
       "      <td>21566</td>\n",
       "      <td>dr5x1p</td>\n",
       "      <td>dr5ru7</td>\n",
       "      <td>0</td>\n",
       "      <td>...</td>\n",
       "      <td>0</td>\n",
       "      <td>0</td>\n",
       "      <td>0</td>\n",
       "      <td>2015-01-25 22:08:01</td>\n",
       "      <td>1</td>\n",
       "      <td>6</td>\n",
       "      <td>22</td>\n",
       "      <td>2015-01-25</td>\n",
       "      <td>0</td>\n",
       "      <td>0</td>\n",
       "    </tr>\n",
       "  </tbody>\n",
       "</table>\n",
       "<p>5 rows × 38 columns</p>\n",
       "</div>"
      ],
      "text/plain": [
       "        start_lng  start_lat    end_lng    end_lat  start_timestamp  duration  \\\n",
       "36829  -73.873688  40.773979 -73.986237  40.750359       1421013478     36122   \n",
       "87511  -73.888596  40.758793 -74.039131  40.730282       1422219276     39924   \n",
       "90077  -73.783653  40.648769 -73.992805  40.713112       1422224158     35042   \n",
       "106362 -73.946259  40.777187 -73.979790  40.755127       1422227794     35381   \n",
       "107665 -73.780090  40.647243 -73.989548  40.758186       1422223681     35519   \n",
       "\n",
       "        distance start_geohash end_geohash  laguardia  ...   dr5rs  dr5rt  \\\n",
       "36829       9858        dr5ryy      dr5ru6          1  ...       0      0   \n",
       "87511      13102        dr5rye      dr5ren          0  ...       0      0   \n",
       "90077      19070        dr5x1p      dr5rs7          0  ...       1      0   \n",
       "106362      3743        dr5rvr      dr5rue          0  ...       0      0   \n",
       "107665     21566        dr5x1p      dr5ru7          0  ...       0      0   \n",
       "\n",
       "        dr5rw            timestamp  month  dow  hour        date  rain  snow  \n",
       "36829       0  2015-01-11 21:57:58      1    6    21  2015-01-11     0     0  \n",
       "87511       0  2015-01-25 20:54:36      1    6    20  2015-01-25     0     0  \n",
       "90077       0  2015-01-25 22:15:58      1    6    22  2015-01-25     0     0  \n",
       "106362      0  2015-01-25 23:16:34      1    6    23  2015-01-25     0     0  \n",
       "107665      0  2015-01-25 22:08:01      1    6    22  2015-01-25     0     0  \n",
       "\n",
       "[5 rows x 38 columns]"
      ]
     },
     "execution_count": 16,
     "metadata": {},
     "output_type": "execute_result"
    }
   ],
   "source": [
    "train[train.duration > 30000].head()"
   ]
  },
  {
   "cell_type": "code",
   "execution_count": 33,
   "metadata": {},
   "outputs": [
    {
     "data": {
      "image/png": "[encoded data removed]",
      "text/plain": [
       "<matplotlib.figure.Figure at 0x11bf75e10>"
      ]
     },
     "metadata": {},
     "output_type": "display_data"
    }
   ],
   "source": [
    "plt.subplots(figsize=(15,6))\n",
    "plt.title('Distribution of trip distances')\n",
    "sns.distplot(train_sample.distance, norm_hist=True, kde=False, label=\"All Trips\")\n",
    "sns.distplot(train[train.duration > 20000].distance, norm_hist=True, kde=False, label=\"Very long trips\")\n",
    "plt.xlabel('Trip distance [m]')\n",
    "plt.legend(['All Trips', 'Very long trips'], loc='upper right')\n",
    "plt.show()"
   ]
  },
  {
   "cell_type": "markdown",
   "metadata": {},
   "source": [
    "The distribution of distances for very long trips is not very skewed compared to the distribution of all trips. Therefore, those very long trips are likely to be anomalies and we will discard them when training. Indeed, those kind of outliers can negatively impact the model performance, especially if the latter optimizes to minimize the mse.\n",
    "\n",
    "Something worth noting in the plot above is the small spike aroud 20km, which is likely caused by the airports trips "
   ]
  },
  {
   "cell_type": "markdown",
   "metadata": {},
   "source": [
    "#### Short durations"
   ]
  },
  {
   "cell_type": "code",
   "execution_count": 97,
   "metadata": {},
   "outputs": [
    {
     "data": {
      "text/html": [
       "<div>\n",
       "<style>\n",
       "    .dataframe thead tr:only-child th {\n",
       "        text-align: right;\n",
       "    }\n",
       "\n",
       "    .dataframe thead th {\n",
       "        text-align: left;\n",
       "    }\n",
       "\n",
       "    .dataframe tbody tr th {\n",
       "        vertical-align: top;\n",
       "    }\n",
       "</style>\n",
       "<table border=\"1\" class=\"dataframe\">\n",
       "  <thead>\n",
       "    <tr style=\"text-align: right;\">\n",
       "      <th></th>\n",
       "      <th>distance</th>\n",
       "    </tr>\n",
       "  </thead>\n",
       "  <tbody>\n",
       "    <tr>\n",
       "      <th>count</th>\n",
       "      <td>293.000000</td>\n",
       "    </tr>\n",
       "    <tr>\n",
       "      <th>mean</th>\n",
       "      <td>119.863481</td>\n",
       "    </tr>\n",
       "    <tr>\n",
       "      <th>std</th>\n",
       "      <td>184.589164</td>\n",
       "    </tr>\n",
       "    <tr>\n",
       "      <th>min</th>\n",
       "      <td>0.000000</td>\n",
       "    </tr>\n",
       "    <tr>\n",
       "      <th>25%</th>\n",
       "      <td>0.000000</td>\n",
       "    </tr>\n",
       "    <tr>\n",
       "      <th>50%</th>\n",
       "      <td>22.000000</td>\n",
       "    </tr>\n",
       "    <tr>\n",
       "      <th>75%</th>\n",
       "      <td>172.000000</td>\n",
       "    </tr>\n",
       "    <tr>\n",
       "      <th>max</th>\n",
       "      <td>1325.000000</td>\n",
       "    </tr>\n",
       "  </tbody>\n",
       "</table>\n",
       "</div>"
      ],
      "text/plain": [
       "          distance\n",
       "count   293.000000\n",
       "mean    119.863481\n",
       "std     184.589164\n",
       "min       0.000000\n",
       "25%       0.000000\n",
       "50%      22.000000\n",
       "75%     172.000000\n",
       "max    1325.000000"
      ]
     },
     "execution_count": 97,
     "metadata": {},
     "output_type": "execute_result"
    }
   ],
   "source": [
    "train_sample[train_sample.duration < 60][['distance']].describe()"
   ]
  },
  {
   "cell_type": "markdown",
   "metadata": {},
   "source": [
    "They seem to be mostly caused by very short trips (bug caused by app of riders/drivers), so nothing anomalous there."
   ]
  },
  {
   "cell_type": "markdown",
   "metadata": {},
   "source": [
    "# Train/Test sets Preparation"
   ]
  },
  {
   "cell_type": "code",
   "execution_count": 109,
   "metadata": {},
   "outputs": [],
   "source": [
    "train_sample = train.sample(50000, random_state=157)\n",
    "train_sample = train_sample[train_sample.duration < 20000]\n",
    "train_sample = pd.get_dummies(train_sample, columns=['month', 'dow'])\n",
    "cols = set(train_sample.columns)\n",
    "\n",
    "exclude = set(['start_lng',\n",
    " 'start_lat',\n",
    " 'end_lng',\n",
    " 'end_lat',\n",
    " 'start_timestamp',\n",
    " 'duration',\n",
    " 'start_geohash',\n",
    " 'end_geohash',\n",
    " 'timestamp',\n",
    " 'date'])\n",
    "\n",
    "features = list(cols - exclude)"
   ]
  },
  {
   "cell_type": "code",
   "execution_count": 110,
   "metadata": {
    "scrolled": true
   },
   "outputs": [
    {
     "data": {
      "text/plain": [
       "['dr5ry',\n",
       " 'month_12',\n",
       " 'dr5rs',\n",
       " 'dr5rt',\n",
       " 'dr5ru',\n",
       " 'dr5rv',\n",
       " 'dr5rw',\n",
       " 'dr724',\n",
       " 'dow_2',\n",
       " 'dow_3',\n",
       " 'dow_0',\n",
       " 'dow_1',\n",
       " 'dow_6',\n",
       " 'dr5re',\n",
       " 'dr5rf',\n",
       " 'dr5rg',\n",
       " 'dr5rd',\n",
       " 'dr726',\n",
       " 'dr727',\n",
       " 'month_10',\n",
       " 'dr725',\n",
       " 'month_4',\n",
       " 'month_5',\n",
       " 'month_6',\n",
       " 'month_11',\n",
       " 'month_7',\n",
       " 'month_2',\n",
       " 'month_3',\n",
       " 'dow_5',\n",
       " 'month_8',\n",
       " 'month_9',\n",
       " 'month_1',\n",
       " 'rain',\n",
       " 'dow_4',\n",
       " 'jfk',\n",
       " 'distance',\n",
       " 'hour',\n",
       " 'laguardia',\n",
       " 'snow',\n",
       " 'dr72q',\n",
       " 'dr72j',\n",
       " 'dr72k',\n",
       " 'dr72h',\n",
       " 'dr72n',\n",
       " 'dr72m']"
      ]
     },
     "execution_count": 110,
     "metadata": {},
     "output_type": "execute_result"
    }
   ],
   "source": [
    "features"
   ]
  },
  {
   "cell_type": "code",
   "execution_count": 111,
   "metadata": {},
   "outputs": [],
   "source": [
    "X = np.array(train_sample[features])\n",
    "Y = np.array(train_sample[['duration']])"
   ]
  },
  {
   "cell_type": "code",
   "execution_count": 112,
   "metadata": {},
   "outputs": [],
   "source": [
    "# split data into train and test sets\n",
    "X_train, X_test, y_train, y_test = train_test_split(X, Y, test_size=0.2, random_state=158)"
   ]
  },
  {
   "cell_type": "markdown",
   "metadata": {},
   "source": [
    "# Models"
   ]
  },
  {
   "cell_type": "markdown",
   "metadata": {},
   "source": [
    "## Linear Regression"
   ]
  },
  {
   "cell_type": "markdown",
   "metadata": {},
   "source": [
    "We first start by training a simple linear regression to get a baseline performance"
   ]
  },
  {
   "cell_type": "code",
   "execution_count": 39,
   "metadata": {},
   "outputs": [
    {
     "name": "stderr",
     "output_type": "stream",
     "text": [
      "/Users/mgouy/Documents/pydev/ENV/lib/python2.7/site-packages/sklearn/utils/validation.py:429: DataConversionWarning: Data with input dtype int64 was converted to float64 by MinMaxScaler.\n",
      "  warnings.warn(msg, _DataConversionWarning)\n"
     ]
    }
   ],
   "source": [
    "scaler = MinMaxScaler()\n",
    "X_train_norm = scaler.fit_transform(X_train)\n",
    "X_test_norm = scaler.transform(X_test)"
   ]
  },
  {
   "cell_type": "code",
   "execution_count": 40,
   "metadata": {},
   "outputs": [],
   "source": [
    "lr = LinearRegression()"
   ]
  },
  {
   "cell_type": "code",
   "execution_count": 98,
   "metadata": {},
   "outputs": [
    {
     "data": {
      "text/plain": [
       "LinearRegression(copy_X=True, fit_intercept=True, n_jobs=1, normalize=False)"
      ]
     },
     "execution_count": 98,
     "metadata": {},
     "output_type": "execute_result"
    }
   ],
   "source": [
    "lr.fit(X_train_norm, y_train)"
   ]
  },
  {
   "cell_type": "code",
   "execution_count": 99,
   "metadata": {},
   "outputs": [],
   "source": [
    "y_pred_lr = lr.predict(X_test_norm)"
   ]
  },
  {
   "cell_type": "code",
   "execution_count": 100,
   "metadata": {},
   "outputs": [
    {
     "data": {
      "text/plain": [
       "282.92528515625003"
      ]
     },
     "execution_count": 100,
     "metadata": {},
     "output_type": "execute_result"
    }
   ],
   "source": [
    "mean_absolute_error(y_test, y_pred_lr)"
   ]
  },
  {
   "cell_type": "markdown",
   "metadata": {},
   "source": [
    "## XGBoost"
   ]
  },
  {
   "cell_type": "markdown",
   "metadata": {},
   "source": [
    "### XGBoost out of the box"
   ]
  },
  {
   "cell_type": "code",
   "execution_count": 113,
   "metadata": {},
   "outputs": [],
   "source": [
    "xgb_regressor = xgb.XGBRegressor(n_estimators=600, learning_rate=0.08, gamma=0, subsample=0.75,\n",
    "                           colsample_bytree=1, max_depth=6)"
   ]
  },
  {
   "cell_type": "code",
   "execution_count": 114,
   "metadata": {
    "scrolled": true
   },
   "outputs": [
    {
     "name": "stdout",
     "output_type": "stream",
     "text": [
      "[0]\tvalidation_0-mae:773.769\n",
      "Will train until validation_0-mae hasn't improved in 30 rounds.\n",
      "[1]\tvalidation_0-mae:712.294\n",
      "[2]\tvalidation_0-mae:655.817\n",
      "[3]\tvalidation_0-mae:603.896\n",
      "[4]\tvalidation_0-mae:556.628\n",
      "[5]\tvalidation_0-mae:513.493\n",
      "[6]\tvalidation_0-mae:474.562\n",
      "[7]\tvalidation_0-mae:439.393\n",
      "[8]\tvalidation_0-mae:408.484\n",
      "[9]\tvalidation_0-mae:381.475\n",
      "[10]\tvalidation_0-mae:357.931\n",
      "[11]\tvalidation_0-mae:337.394\n",
      "[12]\tvalidation_0-mae:319.938\n",
      "[13]\tvalidation_0-mae:305.081\n",
      "[14]\tvalidation_0-mae:292.615\n",
      "[15]\tvalidation_0-mae:282.135\n",
      "[16]\tvalidation_0-mae:273.315\n",
      "[17]\tvalidation_0-mae:265.834\n",
      "[18]\tvalidation_0-mae:259.72\n",
      "[19]\tvalidation_0-mae:254.598\n",
      "[20]\tvalidation_0-mae:250.385\n",
      "[21]\tvalidation_0-mae:246.932\n",
      "[22]\tvalidation_0-mae:244.25\n",
      "[23]\tvalidation_0-mae:241.897\n",
      "[24]\tvalidation_0-mae:239.974\n",
      "[25]\tvalidation_0-mae:238.47\n",
      "[26]\tvalidation_0-mae:237.246\n",
      "[27]\tvalidation_0-mae:236.285\n",
      "[28]\tvalidation_0-mae:235.575\n",
      "[29]\tvalidation_0-mae:235.113\n",
      "[30]\tvalidation_0-mae:234.646\n",
      "[31]\tvalidation_0-mae:234.134\n",
      "[32]\tvalidation_0-mae:233.881\n",
      "[33]\tvalidation_0-mae:233.752\n",
      "[34]\tvalidation_0-mae:233.643\n",
      "[35]\tvalidation_0-mae:233.595\n",
      "[36]\tvalidation_0-mae:233.303\n",
      "[37]\tvalidation_0-mae:233.232\n",
      "[38]\tvalidation_0-mae:233.25\n",
      "[39]\tvalidation_0-mae:233.176\n",
      "[40]\tvalidation_0-mae:232.904\n",
      "[41]\tvalidation_0-mae:232.863\n",
      "[42]\tvalidation_0-mae:232.881\n",
      "[43]\tvalidation_0-mae:232.669\n",
      "[44]\tvalidation_0-mae:232.631\n",
      "[45]\tvalidation_0-mae:232.643\n",
      "[46]\tvalidation_0-mae:232.692\n",
      "[47]\tvalidation_0-mae:232.528\n",
      "[48]\tvalidation_0-mae:232.339\n",
      "[49]\tvalidation_0-mae:232.335\n",
      "[50]\tvalidation_0-mae:232.26\n",
      "[51]\tvalidation_0-mae:232.329\n",
      "[52]\tvalidation_0-mae:232.377\n",
      "[53]\tvalidation_0-mae:232.461\n",
      "[54]\tvalidation_0-mae:232.239\n",
      "[55]\tvalidation_0-mae:232.266\n",
      "[56]\tvalidation_0-mae:232.195\n",
      "[57]\tvalidation_0-mae:232.003\n",
      "[58]\tvalidation_0-mae:232.062\n",
      "[59]\tvalidation_0-mae:231.993\n",
      "[60]\tvalidation_0-mae:231.948\n",
      "[61]\tvalidation_0-mae:231.812\n",
      "[62]\tvalidation_0-mae:231.672\n",
      "[63]\tvalidation_0-mae:231.69\n",
      "[64]\tvalidation_0-mae:231.737\n",
      "[65]\tvalidation_0-mae:231.51\n",
      "[66]\tvalidation_0-mae:231.412\n",
      "[67]\tvalidation_0-mae:231.28\n",
      "[68]\tvalidation_0-mae:231.066\n",
      "[69]\tvalidation_0-mae:231.078\n",
      "[70]\tvalidation_0-mae:231.064\n",
      "[71]\tvalidation_0-mae:230.826\n",
      "[72]\tvalidation_0-mae:230.7\n",
      "[73]\tvalidation_0-mae:230.726\n",
      "[74]\tvalidation_0-mae:230.695\n",
      "[75]\tvalidation_0-mae:230.665\n",
      "[76]\tvalidation_0-mae:230.667\n",
      "[77]\tvalidation_0-mae:230.515\n",
      "[78]\tvalidation_0-mae:230.501\n",
      "[79]\tvalidation_0-mae:230.593\n",
      "[80]\tvalidation_0-mae:230.549\n",
      "[81]\tvalidation_0-mae:230.476\n",
      "[82]\tvalidation_0-mae:230.382\n",
      "[83]\tvalidation_0-mae:230.355\n",
      "[84]\tvalidation_0-mae:230.289\n",
      "[85]\tvalidation_0-mae:230.192\n",
      "[86]\tvalidation_0-mae:230.026\n",
      "[87]\tvalidation_0-mae:229.822\n",
      "[88]\tvalidation_0-mae:229.83\n",
      "[89]\tvalidation_0-mae:229.768\n",
      "[90]\tvalidation_0-mae:229.625\n",
      "[91]\tvalidation_0-mae:229.54\n",
      "[92]\tvalidation_0-mae:229.525\n",
      "[93]\tvalidation_0-mae:229.475\n",
      "[94]\tvalidation_0-mae:229.49\n",
      "[95]\tvalidation_0-mae:229.502\n",
      "[96]\tvalidation_0-mae:229.454\n",
      "[97]\tvalidation_0-mae:229.341\n",
      "[98]\tvalidation_0-mae:229.352\n",
      "[99]\tvalidation_0-mae:229.283\n",
      "[100]\tvalidation_0-mae:229.346\n",
      "[101]\tvalidation_0-mae:229.248\n",
      "[102]\tvalidation_0-mae:229.177\n",
      "[103]\tvalidation_0-mae:229.141\n",
      "[104]\tvalidation_0-mae:229.074\n",
      "[105]\tvalidation_0-mae:229.176\n",
      "[106]\tvalidation_0-mae:229.117\n",
      "[107]\tvalidation_0-mae:229.05\n",
      "[108]\tvalidation_0-mae:228.976\n",
      "[109]\tvalidation_0-mae:228.914\n",
      "[110]\tvalidation_0-mae:228.814\n",
      "[111]\tvalidation_0-mae:228.775\n",
      "[112]\tvalidation_0-mae:228.814\n",
      "[113]\tvalidation_0-mae:228.839\n",
      "[114]\tvalidation_0-mae:228.715\n",
      "[115]\tvalidation_0-mae:228.694\n",
      "[116]\tvalidation_0-mae:228.697\n",
      "[117]\tvalidation_0-mae:228.599\n",
      "[118]\tvalidation_0-mae:228.629\n",
      "[119]\tvalidation_0-mae:228.634\n",
      "[120]\tvalidation_0-mae:228.643\n",
      "[121]\tvalidation_0-mae:228.687\n",
      "[122]\tvalidation_0-mae:228.86\n",
      "[123]\tvalidation_0-mae:228.841\n",
      "[124]\tvalidation_0-mae:228.826\n",
      "[125]\tvalidation_0-mae:228.836\n",
      "[126]\tvalidation_0-mae:228.877\n",
      "[127]\tvalidation_0-mae:228.849\n",
      "[128]\tvalidation_0-mae:228.863\n",
      "[129]\tvalidation_0-mae:228.868\n",
      "[130]\tvalidation_0-mae:228.866\n",
      "[131]\tvalidation_0-mae:228.85\n",
      "[132]\tvalidation_0-mae:228.908\n",
      "[133]\tvalidation_0-mae:228.786\n",
      "[134]\tvalidation_0-mae:228.87\n",
      "[135]\tvalidation_0-mae:228.898\n",
      "[136]\tvalidation_0-mae:228.813\n",
      "[137]\tvalidation_0-mae:228.821\n",
      "[138]\tvalidation_0-mae:228.813\n",
      "[139]\tvalidation_0-mae:228.768\n",
      "[140]\tvalidation_0-mae:228.788\n",
      "[141]\tvalidation_0-mae:228.792\n",
      "[142]\tvalidation_0-mae:228.656\n",
      "[143]\tvalidation_0-mae:228.663\n",
      "[144]\tvalidation_0-mae:228.676\n",
      "[145]\tvalidation_0-mae:228.715\n",
      "[146]\tvalidation_0-mae:228.726\n",
      "[147]\tvalidation_0-mae:228.706\n",
      "Stopping. Best iteration:\n",
      "[117]\tvalidation_0-mae:228.599\n",
      "\n"
     ]
    },
    {
     "data": {
      "text/plain": [
       "XGBRegressor(base_score=0.5, booster='gbtree', colsample_bylevel=1,\n",
       "       colsample_bytree=1, gamma=0, learning_rate=0.08, max_delta_step=0,\n",
       "       max_depth=6, min_child_weight=1, missing=None, n_estimators=600,\n",
       "       n_jobs=1, nthread=None, objective='reg:linear', random_state=0,\n",
       "       reg_alpha=0, reg_lambda=1, scale_pos_weight=1, seed=None,\n",
       "       silent=True, subsample=0.75)"
      ]
     },
     "execution_count": 114,
     "metadata": {},
     "output_type": "execute_result"
    }
   ],
   "source": [
    "eval_set = [(X_test, y_test)]\n",
    "xgb_regressor.fit(X_train, y_train, early_stopping_rounds=30, eval_metric=\"mae\", eval_set=eval_set, verbose=True)"
   ]
  },
  {
   "cell_type": "code",
   "execution_count": 115,
   "metadata": {
    "scrolled": true
   },
   "outputs": [],
   "source": [
    "y_pred = xgb_regressor.predict(X_test)"
   ]
  },
  {
   "cell_type": "code",
   "execution_count": 116,
   "metadata": {},
   "outputs": [
    {
     "data": {
      "text/plain": [
       "228.7061599143982"
      ]
     },
     "execution_count": 116,
     "metadata": {},
     "output_type": "execute_result"
    }
   ],
   "source": [
    "mean_absolute_error(y_test, y_pred)"
   ]
  },
  {
   "cell_type": "markdown",
   "metadata": {},
   "source": [
    "The MAE is almost a minute less than for the simple logistic regression, let's spend a little bit of time tuning the xgboost hyper parameters"
   ]
  },
  {
   "cell_type": "markdown",
   "metadata": {},
   "source": [
    "### Hyper Parameters Tuning using CV and GridSearch"
   ]
  },
  {
   "cell_type": "code",
   "execution_count": null,
   "metadata": {},
   "outputs": [],
   "source": [
    "fig, ax = plt.subplots(1,1,figsize=(10,20))\n",
    "plot_importance(xgb_regressor, ax=ax)\n",
    "plt.show()"
   ]
  }
 ],
 "metadata": {
  "kernelspec": {
   "display_name": "Python 2",
   "language": "python",
   "name": "python2"
  },
  "language_info": {
   "codemirror_mode": {
    "name": "ipython",
    "version": 2
   },
   "file_extension": ".py",
   "mimetype": "text/x-python",
   "name": "python",
   "nbconvert_exporter": "python",
   "pygments_lexer": "ipython2",
   "version": "2.7.10"
  }
 },
 "nbformat": 4,
 "nbformat_minor": 2
}
